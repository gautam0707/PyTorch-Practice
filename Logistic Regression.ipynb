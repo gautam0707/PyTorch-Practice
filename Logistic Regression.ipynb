{
 "cells": [
  {
   "cell_type": "code",
   "execution_count": 23,
   "metadata": {
    "collapsed": false,
    "deletable": true,
    "editable": true
   },
   "outputs": [
    {
     "name": "stdout",
     "output_type": "stream",
     "text": [
      "0 9.933956146240234\n",
      "10000 0.3988349437713623\n",
      "20000 0.2961651086807251\n",
      "30000 0.2452002763748169\n",
      "40000 0.2145644724369049\n",
      "50000 0.1938556432723999\n",
      "60000 0.17874868214130402\n",
      "70000 0.16712960600852966\n",
      "80000 0.15784554183483124\n",
      "90000 0.15020817518234253\n",
      "tensor([[0.9359],\n",
      "        [0.0046]], grad_fn=<SigmoidBackward>)\n"
     ]
    }
   ],
   "source": [
    "import torch\n",
    "\n",
    "x_data = torch.tensor([[_+1] for _ in range(100)], dtype = torch.float)\n",
    "y_data = torch.tensor([[0. if i<50 else 1.] for i in x_data], dtype=torch.float)\n",
    "\n",
    "x_data.requires_grad_(True)\n",
    "\n",
    "class Model(torch.nn.Module):\n",
    "    def __init__(self):\n",
    "        super(Model, self).__init__()\n",
    "        self.linear = torch.nn.Linear(1, 1)  # one in and one out\n",
    "\n",
    "    def forward(self, x):\n",
    "        y_prediction = torch.sigmoid(self.linear(x))\n",
    "        return y_prediction\n",
    "\n",
    "model = Model()\n",
    "\n",
    "criterion = torch.nn.BCELoss(reduction='elementwise_mean')\n",
    "optimizer = torch.optim.SGD(model.parameters(), lr=0.001)\n",
    "\n",
    "for epoch in range(100000):\n",
    "    y_pred = model(x_data)\n",
    "    loss = criterion(y_pred, y_data)\n",
    "    if epoch % 10000 == 0:\n",
    "        print(epoch, loss.item())\n",
    "    optimizer.zero_grad()\n",
    "    loss.backward()\n",
    "    optimizer.step()\n",
    "y = torch.tensor([[70.0],[1.0]])\n",
    "y_pred = model(y)\n",
    "print(y_pred)\n"
   ]
  },
  {
   "cell_type": "code",
   "execution_count": 25,
   "metadata": {
    "collapsed": false
   },
   "outputs": [
    {
     "name": "stdout",
     "output_type": "stream",
     "text": [
      "tensor([[0.9791],\n",
      "        [0.3052],\n",
      "        [0.0291],\n",
      "        [0.7169]], grad_fn=<SigmoidBackward>)\n"
     ]
    }
   ],
   "source": [
    "y = torch.tensor([[80.0],[40.0],[17.0],[55.0]])\n",
    "y_pred = model(y)\n",
    "print(y_pred)"
   ]
  },
  {
   "cell_type": "code",
   "execution_count": null,
   "metadata": {
    "collapsed": true
   },
   "outputs": [],
   "source": []
  }
 ],
 "metadata": {
  "kernelspec": {
   "display_name": "Python 3",
   "language": "python",
   "name": "python3"
  },
  "language_info": {
   "codemirror_mode": {
    "name": "ipython",
    "version": 3
   },
   "file_extension": ".py",
   "mimetype": "text/x-python",
   "name": "python",
   "nbconvert_exporter": "python",
   "pygments_lexer": "ipython3",
   "version": "3.5.6"
  }
 },
 "nbformat": 4,
 "nbformat_minor": 2
}
